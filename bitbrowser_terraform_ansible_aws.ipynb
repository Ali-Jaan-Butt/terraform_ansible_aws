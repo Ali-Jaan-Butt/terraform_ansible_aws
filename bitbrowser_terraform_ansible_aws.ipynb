{
 "cells": [
  {
   "cell_type": "markdown",
   "id": "e0a2b979-c82d-4cd6-aa46-5a9eec7c5b2b",
   "metadata": {},
   "source": [
    "<h3>AWS Account Login</h3>\n",
    "<pre>Email: vatsmaitrey@gmail.com\n",
    "Password: AWSpass@55</pre>"
   ]
  },
  {
   "cell_type": "markdown",
   "id": "952e6849-cb92-43c5-b24a-b50462258715",
   "metadata": {
    "tags": []
   },
   "source": [
    "<h3>Terraform Commands</h3>\n",
    "<ol>\n",
    "    <li>Prepare your working directory for other commands<br><pre>terraform init</pre></li><br>\n",
    "    <li>Check whether the configuration is valid<br><pre>terraform validate</pre><br></li>\n",
    "    <li>Show changes required by the current configuration<br><pre>terraform plan</pre><br></li>\n",
    "    <li>Create or update infrastructure<br><pre>terraform apply</pre><br></li>\n",
    "    <li>Destroy previously-created infrastructure<br><pre>terraform destroy</pre><br></li>\n",
    "    <li>Associate existing infrastructure with a Terraform resource<br><pre>terraform import aws_ec2_instance_state.automation_win_vm &ltInstance ID&gt</pre><br></li>\n",
    "    <li>Remove the instances from state<br><pre>terraform state rm aws_ec2_instance_state.automation_win_vm</pre></li>\n",
    "<ol>"
   ]
  },
  {
   "cell_type": "markdown",
   "id": "e2664826-9206-457e-b6fa-24802993c1ee",
   "metadata": {},
   "source": [
    "<h3>For MAC we import the enviormental variables</h3>\n",
    "<p>export OBJC_DISABLE_INITIALIZE_FORK_SAFETY=YES</p>"
   ]
  },
  {
   "cell_type": "markdown",
   "id": "39580af0-793d-4c5b-9f17-a0c46f6f2fad",
   "metadata": {
    "tags": []
   },
   "source": [
    "<h3>Ansible Commands</h3>\n",
    "<ol>\n",
    "    <li>To check Ansible can communicate with the Windows hosts<br><pre>ansible -i inventory.yml all -m win_ping</pre><br>Note: \"inventory.yml\" is configuration file which defines the hosts and groups.</li><br>\n",
    "    <li>To run playbook<br><pre>ansible-playbook -i inventory.yml playbooks/install_python.yml</pre><br>Note: \"install_python.yml\" is playbook yaml file</li>\n",
    "<ol>"
   ]
  },
  {
   "cell_type": "code",
   "execution_count": 9,
   "id": "defda0c3-b0d4-45ec-817f-fbb008c04ddb",
   "metadata": {
    "tags": []
   },
   "outputs": [],
   "source": [
    "import json\n",
    "import yaml"
   ]
  },
  {
   "cell_type": "code",
   "execution_count": 10,
   "id": "612c3589-553e-4191-9e2d-b3bc4278e5d4",
   "metadata": {
    "tags": []
   },
   "outputs": [],
   "source": [
    "with open('terraform.tfstate', 'r') as state_file:\n",
    "    state_data = json.load(state_file)"
   ]
  },
  {
   "cell_type": "code",
   "execution_count": 11,
   "id": "0256e07c-9e58-4ae3-a7f6-027ca78aa836",
   "metadata": {
    "tags": []
   },
   "outputs": [],
   "source": [
    "inventory = {'all':{'hosts':{}}}\n",
    "for i,j in zip(state_data['outputs']['public_ipv4_address']['value'],state_data['outputs']['password']['value']):\n",
    "    inventory['all']['hosts'][i] = {\n",
    "        'ansible_user': 'Administrator',\n",
    "        'ansible_password': j,\n",
    "        'ansible_port': 5986,\n",
    "        'ansible_connection': 'winrm',\n",
    "        'ansible_winrm_scheme': 'https',\n",
    "        'ansible_winrm_server_cert_validation': 'ignore',\n",
    "        'ansible_winrm_kerberos_delegation': True\n",
    "    }"
   ]
  },
  {
   "cell_type": "code",
   "execution_count": 12,
   "id": "9f46b4ec-43cf-49ad-8953-c7db9637cda5",
   "metadata": {
    "tags": []
   },
   "outputs": [],
   "source": [
    "with open('inventory.yml', 'w') as file:\n",
    "    yaml.dump(inventory, file,sort_keys=False,default_style=\"'\")"
   ]
  }
 ],
 "metadata": {
  "kernelspec": {
   "display_name": "Python 3 (ipykernel)",
   "language": "python",
   "name": "python3"
  },
  "language_info": {
   "codemirror_mode": {
    "name": "ipython",
    "version": 3
   },
   "file_extension": ".py",
   "mimetype": "text/x-python",
   "name": "python",
   "nbconvert_exporter": "python",
   "pygments_lexer": "ipython3",
   "version": "3.11.3"
  }
 },
 "nbformat": 4,
 "nbformat_minor": 5
}
